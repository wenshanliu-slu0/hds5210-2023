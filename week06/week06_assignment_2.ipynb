{
  "cells": [
    {
      "cell_type": "markdown",
      "metadata": {
        "id": "view-in-github",
        "colab_type": "text"
      },
      "source": [
        "<a href=\"https://colab.research.google.com/github/wenshanliu-slu0/hds5210-2023/blob/main/week06/week06_assignment_2.ipynb\" target=\"_parent\"><img src=\"https://colab.research.google.com/assets/colab-badge.svg\" alt=\"Open In Colab\"/></a>"
      ]
    },
    {
      "cell_type": "markdown",
      "metadata": {
        "nbgrader": {
          "grade": false,
          "grade_id": "intro",
          "locked": true,
          "schema_version": 1,
          "solution": false
        },
        "id": "s0iBYpZe1qPZ"
      },
      "source": [
        "# Week 6 Exercises\n",
        "\n",
        "_McKinney 6.1_\n",
        "\n",
        "There are multiple ways to solve the problems below.  You can use any one of several approaches.  For example, you can read CSV files using Pandas or the csv module.  Your score won't depend on which modules you choose to use unless explicitly noted below, but your programming style will still matter."
      ]
    },
    {
      "cell_type": "markdown",
      "metadata": {
        "nbgrader": {
          "grade": false,
          "grade_id": "q1-description",
          "locked": true,
          "schema_version": 1,
          "solution": false
        },
        "id": "y4sMQPRv1qPa"
      },
      "source": [
        "### 30.1 List of Allergies\n",
        "\n",
        "In this GitHub repository, there is a file called `allergies.json` that contains a list of patient allergies.  You will need to download this [file from here](https://raw.githubusercontent.com/paulboal/hds5210-2023/main/week06/allergies.json) and then upload it into Google Colab to run these examples. It is taken from sample data provided by the EHR vendor, Epic, here: https://open.epic.com/Clinical/Allergy\n",
        "\n",
        "Take some time to look at the structure of the file.  You can open it directly in Jupyter by clicking the _Home_ icon, then the _from_instructor_ folder, and then the _data_ folder.\n",
        "\n",
        "Within the file, you'll see that it is a dictionary with many items in it.  One of those items is called `entry` and that item is a list of things.  You can tell that because the item name is immediately followed by an opening square bracket, signifying the start of a list.  It's line 11 of the file: `  \"entry\": [`\n",
        "\n",
        "Write a function named `allergy_count(json_file)` that takes as one parameter the name of the JSON file and returns an integer number of entries in that file.  Your function should open the file, read the json into a Python object, and return how many items there are in the list of `entry`s."
      ]
    },
    {
      "cell_type": "code",
      "execution_count": 1,
      "metadata": {
        "id": "oSXqQ_l_1qPa"
      },
      "outputs": [],
      "source": [
        "import json\n",
        "ALLERGIES_FILE=\"allergies.json\""
      ]
    },
    {
      "cell_type": "code",
      "execution_count": 2,
      "metadata": {
        "nbgrader": {
          "grade": false,
          "grade_id": "q1-answer",
          "locked": false,
          "schema_version": 1,
          "solution": true
        },
        "id": "bXNEXk5l1qPb"
      },
      "outputs": [],
      "source": [
        "# Put your solution here\n",
        "\n",
        "def allergy_count(ALLERGIES_FILE):\n",
        "\n",
        "  \"\"\"(json_file)-->int\n",
        "\n",
        "    This function is to calcuate the numbers of the allergy list.\n",
        "\n",
        "    This version program will calcuate the numbers of the allergy list from the improrting json file, and return 'int' datatpye at the last.\n",
        "\n",
        "Example:\n",
        ">>> allergy_count(ALLERGIES_FILE)\n",
        "4\n",
        "\n",
        "  \"\"\"\n",
        "\n",
        "  with open(ALLERGIES_FILE,'r') as file:\n",
        "     data = json.load(file)\n",
        "     if 'entry' in data and isinstance(data['entry'], list):\n",
        "                return len(data['entry'])\n",
        "     else:\n",
        "                return 0  # Return 0 if 'entry' is missing or not a list"
      ]
    },
    {
      "cell_type": "code",
      "execution_count": 3,
      "metadata": {
        "colab": {
          "base_uri": "https://localhost:8080/"
        },
        "id": "smy92mGL1qPb",
        "outputId": "1406d315-f475-404d-fbd7-658729ad5eb6"
      },
      "outputs": [
        {
          "output_type": "execute_result",
          "data": {
            "text/plain": [
              "4"
            ]
          },
          "metadata": {},
          "execution_count": 3
        }
      ],
      "source": [
        "allergy_count(ALLERGIES_FILE)"
      ]
    },
    {
      "cell_type": "code",
      "execution_count": 4,
      "metadata": {
        "nbgrader": {
          "grade": true,
          "grade_id": "q1-tests",
          "locked": true,
          "points": 5,
          "schema_version": 1,
          "solution": false
        },
        "id": "3WpeGZ541qPb"
      },
      "outputs": [],
      "source": [
        "assert type(allergy_count(ALLERGIES_FILE)) == int\n",
        "assert allergy_count(ALLERGIES_FILE) == 4"
      ]
    },
    {
      "cell_type": "code",
      "source": [
        "import doctest\n",
        "doctest.run_docstring_examples(allergy_count, globals(), verbose=True)"
      ],
      "metadata": {
        "colab": {
          "base_uri": "https://localhost:8080/"
        },
        "id": "bBR7ecBjjtSI",
        "outputId": "d86b8d08-5be8-4f2b-802d-48feb254576b"
      },
      "execution_count": 5,
      "outputs": [
        {
          "output_type": "stream",
          "name": "stderr",
          "text": [
            "\n",
            "PYDEV DEBUGGER WARNING:\n",
            "sys.settrace() should not be used when the debugger is being used.\n",
            "This may cause the debugger to stop working correctly.\n",
            "If this is needed, please check: \n",
            "http://pydev.blogspot.com/2007/06/why-cant-pydev-debugger-work-with.html\n",
            "to see how to restore the debug tracing back correctly.\n",
            "Call Location:\n",
            "  File \"/usr/lib/python3.10/doctest.py\", line 1501, in run\n",
            "    sys.settrace(save_trace)\n",
            "\n"
          ]
        },
        {
          "output_type": "stream",
          "name": "stdout",
          "text": [
            "Finding tests in NoName\n",
            "Trying:\n",
            "    allergy_count(ALLERGIES_FILE)\n",
            "Expecting:\n",
            "    4\n",
            "ok\n"
          ]
        }
      ]
    },
    {
      "cell_type": "markdown",
      "metadata": {
        "id": "wLiwfk531qPb"
      },
      "source": [
        "### 30.2 Number of Patients\n",
        "\n",
        "If you dig a little bit deaper into this list of allergies, you'll see that each result has a patient associated with it.  Create a funcation called `patient_count(json_file)` that will count how many unique patients we have in this JSON structure.  "
      ]
    },
    {
      "cell_type": "code",
      "execution_count": 6,
      "metadata": {
        "id": "zgWG4NXX1qPb"
      },
      "outputs": [],
      "source": [
        "# Put your solution here\n",
        "def patient_count(ALLERGIES_FILE):\n",
        "\n",
        "  \"\"\"(json_file)-->int\n",
        "\n",
        "    This function is to find the number of paitents.\n",
        "\n",
        "    This version program will find the numbers of paitents from the improrting json file, and return 'int' datatpye at the last.\n",
        "\n",
        "\n",
        "Example:\n",
        ">>> patient_count(ALLERGIES_FILE)\n",
        "2\n",
        "\n",
        "  \"\"\"\n",
        "\n",
        "  patient_num_count =set()  #initialize the parameter\n",
        "\n",
        "  with open(ALLERGIES_FILE,'r') as file: #open and load the JSON\n",
        "      data = json.load(file)\n",
        "\n",
        "  if 'entry' in data:  # and (data['entry'], list): # IF 1) 'entry' in data and 2) entry is a list\n",
        "        for entry in data['entry']:\n",
        "\n",
        "          if 'resource' in entry and 'patient' in entry['resource']:\n",
        "            patient = entry['resource']['patient']['display']\n",
        "            patient_num_count.add(patient)\n",
        "\n",
        "        return len(patient_num_count)\n"
      ]
    },
    {
      "cell_type": "code",
      "execution_count": 7,
      "metadata": {
        "colab": {
          "base_uri": "https://localhost:8080/"
        },
        "id": "uAX8ig4c1qPb",
        "outputId": "525f7b31-dd1c-4c18-895e-2b57e7ff346f"
      },
      "outputs": [
        {
          "output_type": "execute_result",
          "data": {
            "text/plain": [
              "2"
            ]
          },
          "metadata": {},
          "execution_count": 7
        }
      ],
      "source": [
        "patient_count(ALLERGIES_FILE)"
      ]
    },
    {
      "cell_type": "code",
      "execution_count": 8,
      "metadata": {
        "id": "e3pc2quE1qPb"
      },
      "outputs": [],
      "source": [
        "assert type(patient_count(ALLERGIES_FILE)) == int\n",
        "assert patient_count(ALLERGIES_FILE) == 2"
      ]
    },
    {
      "cell_type": "code",
      "source": [
        "import doctest\n",
        "doctest.run_docstring_examples(patient_count, globals(), verbose=True)"
      ],
      "metadata": {
        "colab": {
          "base_uri": "https://localhost:8080/"
        },
        "id": "C-jPakT3kQ6_",
        "outputId": "2c092f67-0961-43fb-bca5-bcc5acd33ffe"
      },
      "execution_count": 9,
      "outputs": [
        {
          "output_type": "stream",
          "name": "stdout",
          "text": [
            "Finding tests in NoName\n",
            "Trying:\n",
            "    patient_count(ALLERGIES_FILE)\n",
            "Expecting:\n",
            "    2\n",
            "ok\n"
          ]
        }
      ]
    },
    {
      "cell_type": "markdown",
      "metadata": {
        "id": "szd8RbVx1qPc"
      },
      "source": [
        "### 30.3 How Many Allergies per Patient\n",
        "\n",
        "Although each entry is a separate allergy, several of them are for the same patient.  Write a function called `allergy_per_patient(json_file)` that counts up how many allergies each patient has.\n"
      ]
    },
    {
      "cell_type": "code",
      "execution_count": 10,
      "metadata": {
        "id": "Qe6D_dcZ1qPc"
      },
      "outputs": [],
      "source": [
        "# Put your solution here\n",
        "\n",
        "def allergy_per_patient(ALLERGIES_FILE):\n",
        "    \"\"\"(json_file)-->dict\n",
        "\n",
        "    This function is to list how many allergies each patient has.\n",
        "\n",
        "    This version program will how many allergies each patient has from improrting json file , and return 'dictionary' datatpye at the last.\n",
        "    For instance  : {'Jason Argonaut': 3, 'Paul Boal': 1}\n",
        "\n",
        "\n",
        "Example:\n",
        ">>> allergy_per_patient(ALLERGIES_FILE)\n",
        "{'Jason Argonaut': 3, 'Paul Boal': 1}\n",
        "\n",
        "  \"\"\"\n",
        "\n",
        "\n",
        "    # Initialize a dictionary to store the count of allergies per patient\n",
        "    allergy_count = {}\n",
        "\n",
        "    with open(ALLERGIES_FILE,'r') as file: #open and load the JSON\n",
        "     data = json.load(file)\n",
        "\n",
        "\n",
        "    for entry in data[\"entry\"]:\n",
        "        patient_name = entry[\"resource\"][\"patient\"][\"display\"]\n",
        "\n",
        "        # Check if the patient is already in the dictionary, if not, add them\n",
        "        if patient_name not in allergy_count:\n",
        "            allergy_count[patient_name] = 0\n",
        "\n",
        "\n",
        "        # allergy_count add +1 if paient in the dict\n",
        "        allergy_count[patient_name] = allergy_count[patient_name]+1\n",
        "\n",
        "    return allergy_count"
      ]
    },
    {
      "cell_type": "code",
      "execution_count": 11,
      "metadata": {
        "colab": {
          "base_uri": "https://localhost:8080/"
        },
        "id": "u2n_HXIX1qPc",
        "outputId": "d64f8d14-8f17-493b-cdfa-254849352d79"
      },
      "outputs": [
        {
          "output_type": "execute_result",
          "data": {
            "text/plain": [
              "{'Jason Argonaut': 3, 'Paul Boal': 1}"
            ]
          },
          "metadata": {},
          "execution_count": 11
        }
      ],
      "source": [
        "allergy_per_patient(ALLERGIES_FILE)"
      ]
    },
    {
      "cell_type": "code",
      "execution_count": 12,
      "metadata": {
        "id": "3Luj3pl51qPc"
      },
      "outputs": [],
      "source": [
        "assert type(allergy_per_patient(ALLERGIES_FILE)) == dict\n",
        "assert allergy_per_patient(ALLERGIES_FILE) == {'Paul Boal': 1, 'Jason Argonaut': 3}"
      ]
    },
    {
      "cell_type": "code",
      "source": [
        "import doctest\n",
        "doctest.run_docstring_examples(allergy_per_patient, globals(), verbose=True)"
      ],
      "metadata": {
        "colab": {
          "base_uri": "https://localhost:8080/"
        },
        "id": "201gvE7gmRi2",
        "outputId": "4b11cd30-76ee-4805-a184-9ce434b205c8"
      },
      "execution_count": 13,
      "outputs": [
        {
          "output_type": "stream",
          "name": "stdout",
          "text": [
            "Finding tests in NoName\n",
            "Trying:\n",
            "    allergy_per_patient(ALLERGIES_FILE)\n",
            "Expecting:\n",
            "    {'Jason Argonaut': 3, 'Paul Boal': 1}\n",
            "ok\n"
          ]
        }
      ]
    },
    {
      "cell_type": "markdown",
      "metadata": {
        "nbgrader": {
          "grade": false,
          "grade_id": "q2-question",
          "locked": true,
          "schema_version": 1,
          "solution": false
        },
        "id": "s77xUCe91qPc"
      },
      "source": [
        "### 30.4 Patient Allergies and Reaction\n",
        "\n",
        "You'll see in the file that each of the items in the `entry` list have several other attributes including a patient name, substance text representation, and a reaction manifestation.  Create a function named `allergy_list(json_file)` that will create an output list that has patient name, allergy, and reaction for each `entry`.  The actual result you should get will be:\n",
        "\n",
        "```python\n",
        "[['Jason Argonaut', 'PENICILLIN G', 'Hives'],\n",
        " ['Paul Boal', 'PENICILLIN G', 'Bruising'],\n",
        " ['Jason Argonaut', 'SHELLFISH-DERIVED PRODUCTS', 'Itching'],\n",
        " ['Jason Argonaut', 'STRAWBERRY', 'Anaphylaxis']]\n",
        "```\n",
        "\n",
        "You'll notice that the reaction and the manifestation of that action are lists.  You only need to capture the first reaction and the first manifestation of the action.  That is, if there is a list of things, just output the first one."
      ]
    },
    {
      "cell_type": "code",
      "execution_count": 14,
      "metadata": {
        "nbgrader": {
          "grade": false,
          "grade_id": "q2-answer",
          "locked": false,
          "schema_version": 1,
          "solution": true
        },
        "id": "5sMFufx91qPc"
      },
      "outputs": [],
      "source": [
        "# Put your solution here\n",
        "def allergy_list(ALLERGIES_FILE):\n",
        "\n",
        "  \"\"\"(json_file)-->list\n",
        "\n",
        "    This function is to list the paients name, allergy, and reaction.\n",
        "\n",
        "    This version program will read the improrting json file and and return 'list' datatpye at the end.\n",
        "    The list should like this :['Name', 'allergy', 'reaction'].\n",
        "    For instance:  [['Jason Argonaut', 'PENICILLIN G', 'Hives'],\n",
        "    ['Paul Boal', 'PENICILLIN G', 'Bruising'],\n",
        "    ['Jason Argonaut', 'SHELLFISH-DERIVED PRODUCTS', 'Itching'],\n",
        "    ['Jason Argonaut', 'STRAWBERRY', 'Anaphylaxis']]\n",
        "\n",
        "Example:\n",
        ">>> allergy_list(ALLERGIES_FILE)\n",
        "[['Jason Argonaut', 'PENICILLIN G', 'Hives'],['Jason Argonaut', 'SHELLFISH-DERIVED PRODUCTS', 'Itching'],['Jason Argonaut', 'STRAWBERRY', 'Anaphylaxis'],['Paul Boal', 'PENICILLIN G', 'Bruising']]\n",
        "\n",
        "  \"\"\"\n",
        "\n",
        "\n",
        "\n",
        "\n",
        "  total_list =[] #Initialize a list\n",
        "\n",
        "  with open(ALLERGIES_FILE,'r') as file: #open and load the JSON\n",
        "     data = json.load(file)\n",
        "\n",
        "     for entry in data[\"entry\"]:\n",
        "        patient_name = entry[\"resource\"][\"patient\"][\"display\"]\n",
        "        allergy_text =entry[\"resource\"][\"substance\"][\"text\"]\n",
        "       # allergy_reaction= entry[\"resource\"][\"reaction\"][\"text\"]\n",
        "\n",
        "        if 'reaction' in entry['resource'] and len(entry['resource']['reaction']) > 0:\n",
        "            reaction = entry['resource']['reaction'][0]['certainty']\n",
        "            if 'manifestation' in entry['resource']['reaction'][0] and len(entry['resource']['reaction'][0]['manifestation']) > 0:\n",
        "                manifestation = entry['resource']['reaction'][0]['manifestation'][0]['text']\n",
        "            else:\n",
        "                manifestation = None\n",
        "        else:\n",
        "            reaction = None\n",
        "            manifestation = None\n",
        "\n",
        "        # Add the extracted information to the output list\n",
        "        total_list.append([patient_name, allergy_text, manifestation])\n",
        "\n",
        "\n",
        "\n",
        "  return total_list"
      ]
    },
    {
      "cell_type": "code",
      "execution_count": 15,
      "metadata": {
        "colab": {
          "base_uri": "https://localhost:8080/"
        },
        "id": "i6azVe3q1qPc",
        "outputId": "74cb10fe-d676-4538-9631-b1f7e112a552"
      },
      "outputs": [
        {
          "output_type": "execute_result",
          "data": {
            "text/plain": [
              "[['Jason Argonaut', 'PENICILLIN G', 'Hives'],\n",
              " ['Jason Argonaut', 'SHELLFISH-DERIVED PRODUCTS', 'Itching'],\n",
              " ['Jason Argonaut', 'STRAWBERRY', 'Anaphylaxis'],\n",
              " ['Paul Boal', 'PENICILLIN G', 'Bruising']]"
            ]
          },
          "metadata": {},
          "execution_count": 15
        }
      ],
      "source": [
        "allergy_list(ALLERGIES_FILE)"
      ]
    },
    {
      "cell_type": "code",
      "execution_count": 16,
      "metadata": {
        "nbgrader": {
          "grade": true,
          "grade_id": "q2-tests",
          "locked": true,
          "points": 10,
          "schema_version": 1,
          "solution": false
        },
        "id": "GvtAD0hQ1qPc"
      },
      "outputs": [],
      "source": [
        "assert allergy_list(ALLERGIES_FILE) == [['Jason Argonaut', 'PENICILLIN G', 'Hives'],\n",
        " ['Jason Argonaut', 'SHELLFISH-DERIVED PRODUCTS', 'Itching'],\n",
        " ['Jason Argonaut', 'STRAWBERRY', 'Anaphylaxis'],\n",
        " ['Paul Boal', 'PENICILLIN G', 'Bruising']]\n"
      ]
    },
    {
      "cell_type": "markdown",
      "metadata": {
        "nbgrader": {
          "grade": false,
          "grade_id": "q3-question",
          "locked": true,
          "schema_version": 1,
          "solution": false
        },
        "id": "pZ4iplBT1qPc"
      },
      "source": [
        "### 30.5 Allergy Reaction\n",
        "\n",
        "Write a function called `allergy_reaction(json_file,patient,substance)` that takes three parameter and returns the reaction that will happen if the patient takes the specified substance.  You can solve this, in part, by calling your `allergy_list` function inside your new `allergy_reaction` function.\n",
        "\n",
        "If the substance is not found in the allergy list, the function should return None."
      ]
    },
    {
      "cell_type": "code",
      "execution_count": 17,
      "metadata": {
        "nbgrader": {
          "grade": false,
          "grade_id": "q3-answer",
          "locked": false,
          "schema_version": 1,
          "solution": true
        },
        "id": "JPJoxuh31qPc"
      },
      "outputs": [],
      "source": [
        "# Put your solution here\n",
        "def allergy_list(ALLERGIES_FILE, patient):\n",
        "\n",
        "    \"\"\"(json_file)-->list\n",
        "\n",
        "    This function is to list the paients name, allergy, and reaction.\n",
        "\n",
        "    This version program will list each paient's name, allergy, and reaction has from improrting json file.\n",
        "\n",
        "Example:\n",
        ">>> allergy_list(ALLERGIES_FILE)\n",
        "[['Jason Argonaut', 'PENICILLIN G', 'Hives'],['Jason Argonaut', 'SHELLFISH-DERIVED PRODUCTS', 'Itching'],['Jason Argonaut', 'STRAWBERRY', 'Anaphylaxis'],['Paul Boal', 'PENICILLIN G', 'Bruising']]\n",
        "\n",
        "  \"\"\"\n",
        "\n",
        "    # Read the JSON file\n",
        "    with open(ALLERGIES_FILE, 'r') as file:\n",
        "        data = json.load(file)\n",
        "\n",
        "    #Initialize a new list to show paient's allegy\n",
        "    allergy_entries = data.get('entry', [])\n",
        "\n",
        "    # Search for allergies for the specified patient\n",
        "    allergies = []\n",
        "    for entry in allergy_entries:\n",
        "        resource = entry.get('resource', {})\n",
        "        patient_info = resource.get('patient', {}).get('display', '')\n",
        "        if patient_info == patient:\n",
        "            substance = resource.get('substance', {}).get('text', '')\n",
        "            allergies.append(substance)\n",
        "\n",
        "    return allergies\n",
        "\n",
        "def allergy_reaction(ALLERGIES_FILE, patient, substance):\n",
        "\n",
        "    \"\"\"(json_file,string, string)-->string\n",
        "\n",
        "    This function is to find the reaction when the paient got the specific substance.\n",
        "\n",
        "    This version program is to find the reaction when the paient got the specific substance from improrting json file.\n",
        "    It would return 'string' datatype at the end.\n",
        "\n",
        "\n",
        "Example:\n",
        ">>> allergy_reaction(ALLERGIES_FILE, 'Jason Argonaut', 'PENICILLIN G')\n",
        "'Hives'\n",
        "  \"\"\"\n",
        "\n",
        "\n",
        "    # Get the list of allergies for the specified patient\n",
        "    allergies = allergy_list(ALLERGIES_FILE, patient)\n",
        "\n",
        "    # Check if the specified substance is in the patient's allergy list\n",
        "    if substance in allergies:\n",
        "        # Find the reaction for the specified substance\n",
        "        with open(ALLERGIES_FILE, 'r') as file:\n",
        "            data = json.load(file)\n",
        "\n",
        "        allergy_entries = data.get('entry', [])\n",
        "        for entry in allergy_entries:\n",
        "            resource = entry.get('resource', {})\n",
        "            patient_info = resource.get('patient', {}).get('display', '')\n",
        "\n",
        "            if patient_info == patient and resource.get('substance', {}).get('text', '') == substance:\n",
        "                reactions = resource.get('reaction', [])\n",
        "                if reactions:\n",
        "                    return reactions[0].get('manifestation', [])[0].get('text', None)\n",
        "\n",
        "    else:\n",
        "     return None\n",
        "\n",
        "\n",
        "\n",
        "\n"
      ]
    },
    {
      "cell_type": "code",
      "source": [
        "allergy_list(ALLERGIES_FILE ,'Paul Boal')"
      ],
      "metadata": {
        "colab": {
          "base_uri": "https://localhost:8080/"
        },
        "id": "0cMAz7ajPCe4",
        "outputId": "8123d621-b81d-4782-d226-4e1ab2943dd9"
      },
      "execution_count": 18,
      "outputs": [
        {
          "output_type": "execute_result",
          "data": {
            "text/plain": [
              "['PENICILLIN G']"
            ]
          },
          "metadata": {},
          "execution_count": 18
        }
      ]
    },
    {
      "cell_type": "code",
      "execution_count": 19,
      "metadata": {
        "colab": {
          "base_uri": "https://localhost:8080/",
          "height": 36
        },
        "id": "pQe4WadZ1qPc",
        "outputId": "20fe6b19-f990-4d30-cf8a-9528c901a3b5"
      },
      "outputs": [
        {
          "output_type": "execute_result",
          "data": {
            "text/plain": [
              "'Hives'"
            ],
            "application/vnd.google.colaboratory.intrinsic+json": {
              "type": "string"
            }
          },
          "metadata": {},
          "execution_count": 19
        }
      ],
      "source": [
        "allergy_reaction(ALLERGIES_FILE, 'Jason Argonaut', 'PENICILLIN G')"
      ]
    },
    {
      "cell_type": "code",
      "execution_count": 20,
      "metadata": {
        "nbgrader": {
          "grade": true,
          "grade_id": "q3-tests",
          "locked": true,
          "points": 5,
          "schema_version": 1,
          "solution": false
        },
        "id": "53FNsvmk1qPc"
      },
      "outputs": [],
      "source": [
        "assert allergy_reaction(ALLERGIES_FILE, 'Jason Argonaut', 'PENICILLIN G') == 'Hives'\n",
        "assert allergy_reaction(ALLERGIES_FILE, 'Jason Argonaut', 'SHELLFISH-DERIVED PRODUCTS') == 'Itching'\n",
        "assert allergy_reaction(ALLERGIES_FILE, 'Jason Argonaut', 'STRAWBERRY') == 'Anaphylaxis'\n",
        "assert allergy_reaction(ALLERGIES_FILE, 'Jason Argonaut', 'PENICILLIN') == None\n",
        "assert allergy_reaction(ALLERGIES_FILE, 'Paul Boal', 'PENICILLIN G') == 'Bruising'"
      ]
    },
    {
      "cell_type": "code",
      "source": [
        "import doctest\n",
        "doctest.run_docstring_examples(allergy_reaction, globals(), verbose=True)"
      ],
      "metadata": {
        "colab": {
          "base_uri": "https://localhost:8080/"
        },
        "id": "_kcIqPCGoiMm",
        "outputId": "3cb58e43-5a86-4ca4-a65e-cedefe420298"
      },
      "execution_count": 21,
      "outputs": [
        {
          "output_type": "stream",
          "name": "stdout",
          "text": [
            "Finding tests in NoName\n",
            "Trying:\n",
            "    allergy_reaction(ALLERGIES_FILE, 'Jason Argonaut', 'PENICILLIN G')\n",
            "Expecting:\n",
            "    'Hives'\n",
            "ok\n"
          ]
        }
      ]
    },
    {
      "cell_type": "markdown",
      "metadata": {
        "id": "O4gHnLFh1qPc"
      },
      "source": [
        "---\n",
        "\n",
        "## Check your work above\n",
        "\n",
        "If you didn't get them all correct, take a few minutes to think through those that aren't correct.\n",
        "\n",
        "\n",
        "## Submitting Your Work\n",
        "\n",
        "In order to submit your work, you'll need to save this notebook file back to GitHub.  To do that in Google Colab:\n",
        "1. File -> Save a Copy in GitHub\n",
        "2. Make sure your HDS5210 repository is selected\n",
        "3. Make sure the file name includes the week number like this: `week06/week06_assignment_2.ipynb`\n",
        "4. Add a commit message that means something\n",
        "\n",
        "**Be sure week names are lowercase and use a two digit week number!!**\n",
        "\n",
        "**Be sure you use the same file name provided by the instructor!!**\n",
        "\n"
      ]
    }
  ],
  "metadata": {
    "celltoolbar": "Create Assignment",
    "kernelspec": {
      "display_name": "Python 3",
      "language": "python",
      "name": "python3"
    },
    "language_info": {
      "codemirror_mode": {
        "name": "ipython",
        "version": 3
      },
      "file_extension": ".py",
      "mimetype": "text/x-python",
      "name": "python",
      "nbconvert_exporter": "python",
      "pygments_lexer": "ipython3",
      "version": "3.9.16"
    },
    "colab": {
      "provenance": [],
      "include_colab_link": true
    }
  },
  "nbformat": 4,
  "nbformat_minor": 0
}