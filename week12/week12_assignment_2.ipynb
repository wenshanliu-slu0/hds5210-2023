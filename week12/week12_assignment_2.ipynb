{
  "cells": [
    {
      "cell_type": "markdown",
      "metadata": {
        "nbgrader": {
          "grade": false,
          "grade_id": "intro",
          "locked": true,
          "schema_version": 1,
          "solution": false
        },
        "id": "FDhCkRSlLc6o"
      },
      "source": [
        "# Week 12 Assignment\n",
        "\n",
        "# PART 1 - Pivoting Data for Fun!\n",
        "\n",
        "In this exercise, we're going to work with data about condemned buildings in St. Louis.  This data set is in `https://hds5210-data.s3.awsamazon.com/condemn.txt` in CSV format."
      ]
    },
    {
      "cell_type": "markdown",
      "metadata": {
        "nbgrader": {
          "grade": false,
          "grade_id": "q1-intro",
          "locked": true,
          "schema_version": 1,
          "solution": false
        },
        "id": "tnq2hJazLc6p"
      },
      "source": [
        "## STEP 1: Load and Filter data\n",
        "\n",
        "For this analysis, we want to look only at a relevent range of years and only years that are in teh past.  So, let's first take a look at the data between 1986 and 2014 (inclusive of those dates).\n",
        "\n",
        "At the end of this step, you should have a data frame loaded from the condemnations file and filtered down to only the data between 1986 and 2014.  Put that into a dataframe named `condemnations`\n",
        "\n",
        "**Some helpful notes:**\n",
        "* Use the columns `InspectDate` to filter this date range"
      ]
    },
    {
      "cell_type": "code",
      "execution_count": 14,
      "metadata": {
        "nbgrader": {
          "grade": false,
          "grade_id": "q1-solution",
          "locked": false,
          "schema_version": 1,
          "solution": true
        },
        "colab": {
          "base_uri": "https://localhost:8080/"
        },
        "id": "LFoAh7cKLc6q",
        "outputId": "00ad754e-661d-4d2f-e192-25d62c72f433"
      },
      "outputs": [
        {
          "output_type": "stream",
          "name": "stderr",
          "text": [
            "<ipython-input-14-4a405be06ad8>:5: DtypeWarning: Columns (2,8,35,36) have mixed types. Specify dtype option on import or set low_memory=False.\n",
            "  condemnations = pd.read_csv('https://hds5210-data.s3.amazonaws.com/condemn.txt')\n"
          ]
        },
        {
          "output_type": "execute_result",
          "data": {
            "text/plain": [
              "(32586, 40)"
            ]
          },
          "metadata": {},
          "execution_count": 14
        }
      ],
      "source": [
        "%matplotlib inline\n",
        "import pandas as pd\n",
        "\n",
        "#condemnations = pd.read_csv('https://hds5210-data.s3.awsamazon.com/condemn.txt')\n",
        "condemnations = pd.read_csv('https://hds5210-data.s3.amazonaws.com/condemn.txt')\n",
        "condemnations.shape"
      ]
    },
    {
      "cell_type": "code",
      "execution_count": 15,
      "metadata": {
        "id": "MwqEMdR_Lc6q"
      },
      "outputs": [],
      "source": [
        "condemnations['InspectDate'] = pd.to_datetime(condemnations['InspectDate'])\n",
        "\n"
      ]
    },
    {
      "cell_type": "code",
      "execution_count": 16,
      "metadata": {
        "id": "t6gNWBmFLc6q"
      },
      "outputs": [],
      "source": [
        "condemnations = condemnations[(condemnations['InspectDate'] >= '1986-01-01') & (condemnations['InspectDate'] <= '2014-12-31')]"
      ]
    },
    {
      "cell_type": "code",
      "execution_count": 17,
      "metadata": {
        "nbgrader": {
          "grade": true,
          "grade_id": "q1-tests",
          "locked": true,
          "points": 6,
          "schema_version": 1,
          "solution": false
        },
        "id": "Wn6pvs5RLc6r"
      },
      "outputs": [],
      "source": [
        "assert(condemnations.shape == (30232, 40))\n",
        "assert(len(condemnations[condemnations['InspectDate'] < '1986'])==0)\n",
        "assert(len(condemnations[condemnations['InspectDate'] >= '2015'])==0)"
      ]
    },
    {
      "cell_type": "markdown",
      "metadata": {
        "nbgrader": {
          "grade": false,
          "grade_id": "q2-intro",
          "locked": true,
          "schema_version": 1,
          "solution": false
        },
        "id": "XLTV_oyVLc6r"
      },
      "source": [
        "## STEP 2: Pivot and Summarize\n",
        "\n",
        "In this step we want to pivot our data so that we have one row per year, a column for each value that appears in the `Status` column, and a count of how many condemnations occurred of each type in each year.  Put your summary pivot table into a variable called `by_year`.\n",
        "\n",
        "**Some helpful notes:**\n",
        "* For some reason, Pandas is just kind of stubborn about count being the aggregate function.  You may need to tell it to `np.ma.count` specifically.  I've imported Numpy as np for you."
      ]
    },
    {
      "cell_type": "code",
      "execution_count": 18,
      "metadata": {
        "colab": {
          "base_uri": "https://localhost:8080/"
        },
        "id": "rEHQ85z8Lc6r",
        "outputId": "b3df195d-81d3-4ffc-ff34-e9762d7fd023"
      },
      "outputs": [
        {
          "output_type": "stream",
          "name": "stdout",
          "text": [
            "Status            B      L     R      W\n",
            "InspectDate                            \n",
            "1986           22.0   12.0  19.0  112.0\n",
            "1987           91.0   20.0   8.0  361.0\n",
            "1988          215.0   16.0  15.0  297.0\n",
            "1989          277.0   15.0  11.0  432.0\n",
            "1990          119.0   29.0   8.0  322.0\n",
            "1991          139.0   18.0   4.0  351.0\n",
            "1992          204.0   30.0   4.0  258.0\n",
            "1993          185.0   47.0   2.0  193.0\n",
            "1994          208.0   94.0   5.0  293.0\n",
            "1995          176.0  127.0   0.0  268.0\n",
            "1996          214.0  171.0   0.0  794.0\n",
            "1997          281.0  328.0   0.0  878.0\n",
            "1998          254.0  343.0   0.0  599.0\n",
            "1999          272.0  283.0   0.0  826.0\n",
            "2000          320.0  268.0   0.0  529.0\n",
            "2001          381.0  262.0   0.0  296.0\n",
            "2002          383.0  227.0   0.0  317.0\n",
            "2003          361.0  201.0   0.0  282.0\n",
            "2004          354.0  204.0   0.0  381.0\n",
            "2005          410.0  237.0   0.0  345.0\n",
            "2006          479.0  233.0  20.0  370.0\n",
            "2007          613.0  262.0   0.0  341.0\n",
            "2008          700.0  254.0   0.0  334.0\n",
            "2009          785.0  223.0   0.0  200.0\n",
            "2010         1161.0  193.0   0.0  154.0\n",
            "2011         1028.0  275.0   0.0  107.0\n",
            "2012          738.0  257.0   1.0   28.0\n",
            "2013          185.0  209.0   1.0    2.0\n",
            "2014           17.0  128.0   0.0    0.0\n"
          ]
        }
      ],
      "source": [
        "import numpy as np\n",
        "\n",
        "\n",
        "by_year = condemnations.pivot_table(\n",
        "    index=condemnations['InspectDate'].dt.year,\n",
        "    columns='Status',\n",
        "    values='AcctNum',\n",
        "    aggfunc=np.ma.count\n",
        ")\n",
        "\n",
        "\n",
        "by_year = by_year.fillna(0)  #to fill 0 to data. R has some null\n",
        "#test\n",
        "print(by_year)"
      ]
    },
    {
      "cell_type": "code",
      "execution_count": 19,
      "metadata": {
        "nbgrader": {
          "grade": true,
          "grade_id": "q2-tests",
          "locked": true,
          "points": 6,
          "schema_version": 1,
          "solution": false
        },
        "id": "Gvyh8AjFLc6r"
      },
      "outputs": [],
      "source": [
        "assert(by_year.shape == (29, 4))\n",
        "assert(list(by_year.columns) == ['B', 'L', 'R', 'W'])\n",
        "assert(list(by_year.sum()) == [10572, 4966, 98, 9670])"
      ]
    },
    {
      "cell_type": "markdown",
      "metadata": {
        "nbgrader": {
          "grade": false,
          "grade_id": "q3-intro",
          "locked": true,
          "schema_version": 1,
          "solution": false
        },
        "id": "I85XQcVFLc6r"
      },
      "source": [
        "## STEP 3: Plot and see what you see\n",
        "\n",
        "Use Pandas built-in plotting capabilities to visualize this information in way that you think makes sense.  It might be that plotting a simple multi-series line chart would give you some insights.  Show your plot in the cell below, then use the text cell below that to write a few sentences about what you see.\n"
      ]
    },
    {
      "cell_type": "code",
      "execution_count": 20,
      "metadata": {
        "nbgrader": {
          "grade": true,
          "grade_id": "q3-manual",
          "locked": false,
          "points": 5,
          "schema_version": 1,
          "solution": true
        },
        "colab": {
          "base_uri": "https://localhost:8080/",
          "height": 466
        },
        "id": "IwzhbnK9Lc6r",
        "outputId": "f27bcbf8-a78a-4637-a086-ed6c202fcdd6"
      },
      "outputs": [
        {
          "output_type": "execute_result",
          "data": {
            "text/plain": [
              "<Axes: xlabel='InspectDate'>"
            ]
          },
          "metadata": {},
          "execution_count": 20
        },
        {
          "output_type": "display_data",
          "data": {
            "text/plain": [
              "<Figure size 640x480 with 1 Axes>"
            ],
            "image/png": "[encoded data removed]"
          },
          "metadata": {}
        }
      ],
      "source": [
        "%matplotlib inline\n",
        "by_year.plot()"
      ]
    },
    {
      "cell_type": "markdown",
      "source": [
        "\n",
        "**write a few sentences about what you see**\n",
        "\n",
        "This line graph shows the number of status \"R\" buildings is almost 0 from 1985 to 2015. In addition, the number of status \"W\" buildings have been relatively high between 1995 to 2000. However, the number of the status of \"B\" was pretty high around 2010."
      ],
      "metadata": {
        "id": "dhvCybl4Wsun"
      }
    },
    {
      "cell_type": "markdown",
      "metadata": {
        "id": "V0qQ6nhnLc6s"
      },
      "source": [
        "---"
      ]
    },
    {
      "cell_type": "markdown",
      "metadata": {
        "id": "XVXIHn_fLc6s"
      },
      "source": [
        "# PART 2 - Video Conference Usage\n",
        "\n",
        "In this next part of the assignment, we'll be looking at how video conference usage changed during the beginning of COVID-19.  This real data.  Please don't judge anyone based on the information here.  ;)  The data is in the `https://hds5210-data.s3.awsamazon.com/meetings.csv` file.\n",
        "\n",
        "For the assignment, I want you to compare (by person) the number of meetings hosted by each user for the last two weeks of February and the last two weeks of March.  This might be a little complicated to think through HOW to do that, so the steps below are one approach.\n",
        "\n",
        "1. Create a new column called startDate that contains just the day part of the startTime column in the data.  You can do that using datetime functions if you want, but you'll notice that the date in this file is a string formatted YYYY-MM-DD-HH:mm:ss, so it's probably easier just to pull out the first 10 characters of the string instead.  `meetings['startTime'].str[0:10]`\n",
        "2. Create another new column.  This one should contain a label like \"BEFORE\" for the week 2/17 - 2/28 and \"DURING\" for the week of 3/16 - 3/27.  A hand tip on this is that you can set values for some rows in a data frame using `meetings.loc[row_filter,'Column Name'] = 'Value'` if you've created a `row_filter` as we discussed in prior weeks.\n",
        "3. From here, using `pivot_table()` is one good way to summarize the information.\n",
        "\n",
        "**FINAL RESULT**\n",
        "\n",
        "For a final result, I'd like you to produce a data frame named **summary** that contains:\n",
        "* One ROW for each userName.  The userName can either be the row index or a column in the data frame.\n",
        "* One COLUMN for the \"BEFORE\" week and one COLUMN for the \"DURING\" week.  Name those columns 'Before' and 'During'.\n",
        "* One more calculated column that shows the percent increase from BEFORE to DURING.  Name that column 'pctChange'.\n"
      ]
    },
    {
      "cell_type": "code",
      "source": [
        "import pandas as pd\n",
        "\n",
        "# Step 1\n",
        "meetings = pd.read_csv('https://hds5210-data.s3.amazonaws.com/meetings.csv')\n",
        "meetings['startDate'] = meetings['startTime'].str[0:10]\n",
        "\n",
        "# Step 2\n",
        "meetings.loc[(meetings['startDate'] >= '2020-02-17') & (meetings['startDate'] <= '2020-02-28'), 'label'] = 'BEFORE'\n",
        "meetings.loc[(meetings['startDate'] >= '2020-03-16') & (meetings['startDate'] <= '2020-03-27'), 'label'] = 'DURING'\n",
        "\n",
        "\n",
        "\n",
        "\n",
        "# Step 3 pivot_table()\n",
        "summary = pd.pivot_table(\n",
        "    meetings, values='meetingId', index='userName', columns='label', aggfunc='count', fill_value=0\n",
        "    )\n",
        "\n",
        "\n",
        "summary['pctChange'] = ((summary['DURING'] - summary['BEFORE']) / summary['BEFORE'])\n"
      ],
      "metadata": {
        "id": "vS17FNTHdPrI"
      },
      "execution_count": 21,
      "outputs": []
    },
    {
      "cell_type": "markdown",
      "metadata": {
        "id": "SQsPyA0eLc6s"
      },
      "source": [
        "---"
      ]
    },
    {
      "cell_type": "code",
      "execution_count": 22,
      "metadata": {
        "id": "Wd09Nb8qLc6s"
      },
      "outputs": [],
      "source": [
        "assert(len(summary) == 22)"
      ]
    },
    {
      "cell_type": "code",
      "execution_count": 23,
      "metadata": {
        "id": "mwcdxDXiLc6s"
      },
      "outputs": [],
      "source": [
        "assert(summary['pctChange'].mean().round(2) == 0.92)"
      ]
    },
    {
      "cell_type": "code",
      "execution_count": 23,
      "metadata": {
        "id": "ZvpOyQXzLc6s"
      },
      "outputs": [],
      "source": []
    },
    {
      "cell_type": "markdown",
      "metadata": {
        "id": "coMjIaeLLc6s"
      },
      "source": [
        "\n",
        "\n",
        "---\n",
        "\n",
        "\n",
        "\n",
        "## Submitting Your Work\n",
        "\n",
        "Submit as usual\n"
      ]
    }
  ],
  "metadata": {
    "celltoolbar": "Create Assignment",
    "kernelspec": {
      "display_name": "Python 3",
      "language": "python",
      "name": "python3"
    },
    "language_info": {
      "codemirror_mode": {
        "name": "ipython",
        "version": 3
      },
      "file_extension": ".py",
      "mimetype": "text/x-python",
      "name": "python",
      "nbconvert_exporter": "python",
      "pygments_lexer": "ipython3",
      "version": "3.6.7"
    },
    "colab": {
      "provenance": []
    }
  },
  "nbformat": 4,
  "nbformat_minor": 0
}