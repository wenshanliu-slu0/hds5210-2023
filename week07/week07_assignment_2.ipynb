{
  "cells": [
    {
      "cell_type": "markdown",
      "metadata": {
        "id": "view-in-github",
        "colab_type": "text"
      },
      "source": [
        "<a href=\"https://colab.research.google.com/github/wenshanliu-slu0/hds5210-2023/blob/main/week07/week07_assignment_2.ipynb\" target=\"_parent\"><img src=\"https://colab.research.google.com/assets/colab-badge.svg\" alt=\"Open In Colab\"/></a>"
      ]
    },
    {
      "cell_type": "markdown",
      "metadata": {
        "id": "r1wtpS_jpZqn"
      },
      "source": [
        "# Week 7 Assignment\n",
        "\n",
        "We've been working with different types of data structures in Python (dictionary, list, etc), how those are represented in JSON documents, and how to write code to access specific data elements. In this week's assignment, you will need to create your own JSON document to store information about yourself and the grades you've received from week 1 to week 4 and the week 6 quiz.  That is, everything you should have received a grade for.  Then you'll need to show me you know how to navigate the JSON in that file.\n",
        "\n",
        "Different from what we've done in the past, you do not have to write any functions or include any docstrings.  Just create some JSON and write some code.\n",
        "\n",
        "---"
      ]
    },
    {
      "cell_type": "markdown",
      "metadata": {
        "id": "hMUJaGEWpZqo"
      },
      "source": [
        "## 7.1 Create a JSON string\n",
        "\n",
        "Create a JSON string that contains your name, email, year you were born, all of the grades you've received back so far, and a comment about what you thought was most challenging on each of those assignments.  This can be any structure you choose, but make sure it uses a dictionary and a list, and has at least two levels of hierarchy.  That is, it can't just be one big long list."
      ]
    },
    {
      "cell_type": "markdown",
      "metadata": {
        "id": "d5FM2ajwpZqp"
      },
      "source": [
        "First, explain how your data structure is going to look..."
      ]
    },
    {
      "cell_type": "markdown",
      "metadata": {
        "id": "TtZ-m34jpZqp"
      },
      "source": [
        "***Expain: ***\n",
        "\n",
        "\n",
        "Ths is a JSON structure. It shows that the students's personal information , the grades of each assignment, and the comment of this class until now so far.\n",
        "\n",
        "1.  Personal Information:\n",
        "\n",
        "* \"name\": \"wenshan.liu\" - This variable contains the user's name.\n",
        "\n",
        "* \"email\": \"wenshan.liu@slu.edu\" - This variable contains the user's email address.\n",
        "* \"clss_name\": \"HDS5210\"- This variable shows that the class name.\n",
        "\n",
        "* \"year_of_birth\": 1994 - This variable contains the individual's year of birth\n",
        "\n",
        "\n",
        "2.   Grades:\n",
        "In this part, it shows the list stucture which contains the information about the assignments and quiz. Each item in the list indicates that the one of the assigments or quizs. Its stucture look like:\n",
        "\n",
        "* \"assignment_name\" - \"week01_assginment\".\n",
        "* \"grade\" - 100.\n",
        "* \"challenge\" -\" It is a difficult time to set up the environment.\" A description of the challenges when working on the assignment.\n",
        "\n",
        "\n",
        "\n",
        "\n",
        "3. Comment:\n",
        "* \"comment\": \"I'm trying to improve my Python skill.\" - This field contains a comment or statement from the individual about their goal to enhance their Python skills."
      ]
    },
    {
      "cell_type": "markdown",
      "metadata": {
        "id": "ovQjKSlZpZqp"
      },
      "source": [
        "Then put the actual JSON you've created inside the multiline string below..."
      ]
    },
    {
      "cell_type": "code",
      "execution_count": 18,
      "metadata": {
        "id": "skyGH8UspZqp"
      },
      "outputs": [],
      "source": [
        "hds5210 = \"\"\"\n",
        "{\n",
        "        \"name\": \"wenshan.liu\",\n",
        "        \"email\": \"wenshan.liu@slu.edu\",\n",
        "        \"class_name\" :\"HDS5210\",\n",
        "        \"year_of_birth\":1994,\n",
        "\n",
        "       \"grades\": [\n",
        "    {\n",
        "      \"assignment_name\": \"week01_assignment\",\n",
        "      \"grade\": 10,\n",
        "      \"challenge\": \"It is a difficult time to set up the environment.\"\n",
        "    },\n",
        "    {\n",
        "      \"assignment_name\": \"week02_assignment\",\n",
        "      \"grade\":10,\n",
        "      \"challenge\": \"I am stuggle in doing 5.4, becuse I could not unstand how to convert imperialunit and SI unit. \"\n",
        "    },\n",
        "    {\n",
        "      \"assignment_name\": \"week03_assignment\",\n",
        "      \"grade\":10  ,\n",
        "      \"challenge\": \"It is not any challenge for me. The logic of the pyothon is almost same as other language.\"\n",
        "    },\n",
        "    {\n",
        "      \"assignment_name\": \"week04_assignment\",\n",
        "      \"grade\":10  ,\n",
        "      \"challenge\": \"I took a long time to understand dictionary and list.\"\n",
        "    },\n",
        "     {\n",
        "      \"assignment_name\": \"week06_quiz\",\n",
        "      \"grade\": 13,\n",
        "      \"challenge\": \"Not enough time to writing code.\"\n",
        "    }\n",
        "  ],\n",
        "  \"comment\": \"I'm trying to imporve my python skill.\"\n",
        "\n",
        "}\n",
        "\"\"\""
      ]
    },
    {
      "cell_type": "markdown",
      "metadata": {
        "id": "kalxCnDjpZqq"
      },
      "source": [
        "## 7.2 Do something with your JSON\n",
        "\n",
        "Now use Python code to do something with the Json above.  Turn it into English text, but make sure that you use at least one loop to access some dict or list content of your JSON.  Below, I've provided some basic code to read in the string above as JSON and return a Python object.  Your job is to work with that data structure and print out the important information like your name, email, and how you did on each assignment."
      ]
    },
    {
      "cell_type": "code",
      "execution_count": 19,
      "metadata": {
        "id": "bv586IsppZqq",
        "outputId": "89a840ff-32c3-4f6e-e875-e4c2edde11df",
        "colab": {
          "base_uri": "https://localhost:8080/"
        }
      },
      "outputs": [
        {
          "output_type": "stream",
          "name": "stdout",
          "text": [
            "Hi, my name is wenshan.liu and my email is wenshan.liu@slu.edu . I am 29 years old. I am taking course in Saint Louis University.\n",
            "I have 5 assignments and quiz had been graded in class_name course.\n",
            "Those score are: \n",
            "\n",
            "- Assignment: week01_assignment :  Grade: 10. \n",
            "  Challenge: It is a difficult time to set up the environment.\n",
            "\n",
            "- Assignment: week02_assignment :  Grade: 10. \n",
            "  Challenge: I am stuggle in doing 5.4, becuse I could not unstand how to convert imperialunit and SI unit. \n",
            "\n",
            "- Assignment: week03_assignment :  Grade: 10. \n",
            "  Challenge: It is not any challenge for me. The logic of the pyothon is almost same as other language.\n",
            "\n",
            "- Assignment: week04_assignment :  Grade: 10. \n",
            "  Challenge: I took a long time to understand dictionary and list.\n",
            "\n",
            "- Assignment: week06_quiz :  Grade: 13. \n",
            "  Challenge: Not enough time to writing code.\n",
            "\n",
            "---------------------------------------------------------------------------------------------\n",
            "Until week 07, this is my thought:I'm trying to imporve my python skill. \n"
          ]
        }
      ],
      "source": [
        "import json\n",
        "\n",
        "info = json.loads(hds5210)\n",
        "# Put your code to output a paragraph of English text here\n",
        "\n",
        "me = info[\"name\"]\n",
        "my_email = info[\"email\"]\n",
        "Year_of_mybirth = info[\"year_of_birth\"]\n",
        "yr_old= 2023 -Year_of_mybirth\n",
        "class_name = info[\"class_name\"]\n",
        "\n",
        "Count_Assignment= len(info[\"grades\"])\n",
        "grades =info[\"grades\"]\n",
        "\n",
        "last_comment = info[\"comment\"]\n",
        "\n",
        "print(f\"Hi, my name is {me} and my email is {my_email} . I am {yr_old} years old. I am taking course in Saint Louis University.\")\n",
        "print(f\"I have {Count_Assignment} assignments and quiz had been graded in class_name course.\")\n",
        "print(f\"Those score are: \\n\")\n",
        "\n",
        "for assignment in grades:\n",
        "    assignment_name = assignment[\"assignment_name\"]\n",
        "    grade = assignment[\"grade\"]\n",
        "    challenge = assignment[\"challenge\"]\n",
        "\n",
        "    print(f\"- Assignment: {assignment_name} :  Grade: {grade}. \" )\n",
        "    print(f\"  Challenge: {challenge}\\n\")\n",
        "\n",
        "print(\"---------------------------------------------------------------------------------------------\")\n",
        "print(f\"Until week 07, this is my thought:{last_comment} \")\n"
      ]
    },
    {
      "cell_type": "markdown",
      "metadata": {
        "id": "5nP476kkpZqq"
      },
      "source": [
        "## 7.3 Reflect\n",
        "\n",
        "Write a paragraph on any reflections you have. Was this hard? Easy?  What parts were most challenging or easiest? What did you like or dislike about the assignment?  Share whatever important thoughts you have abou this assignment."
      ]
    },
    {
      "cell_type": "markdown",
      "metadata": {
        "id": "bIJBULfkpZqq"
      },
      "source": [
        " Reflect:\n",
        "\n",
        "* Yes, it is a little bit hard for me. I take a long time to understand the JSON structure. However, after this exercise, I have more sense of accomplishment to write code. I like this assignment. It is an interesting way to understand the JSON structure.  "
      ]
    },
    {
      "cell_type": "markdown",
      "metadata": {
        "id": "c5trKOvcpZqq"
      },
      "source": [
        "---\n",
        "\n",
        "# Example\n",
        "\n",
        "Below is an example of something similar, but this uses information my and my friend's kids instead of grades."
      ]
    },
    {
      "cell_type": "code",
      "execution_count": 15,
      "metadata": {
        "id": "Aok_GAAKpZqq",
        "outputId": "f81e8447-05d1-4f02-b50c-01bb1fd3c82f",
        "colab": {
          "base_uri": "https://localhost:8080/"
        }
      },
      "outputs": [
        {
          "output_type": "stream",
          "name": "stdout",
          "text": [
            "Hi, my name is Paul. I've got 3 kids. Their names are Ellie, Ada, Teddy.\n",
            "My friend, Anny has 1 kids. That's fewer than me. Their names are Abby\n"
          ]
        }
      ],
      "source": [
        "hds5210 = \"\"\"\n",
        "{\n",
        "    \"me\": {\n",
        "        \"name\": \"Paul\",\n",
        "        \"kids\": [\"Ellie\", \"Ada\", \"Teddy\"]\n",
        "    },\n",
        "    \"friend\": {\n",
        "        \"name\": \"Anny\",\n",
        "        \"kids\": [\"Abby\"]\n",
        "    }\n",
        "}\n",
        "\"\"\"\n",
        "\n",
        "import json\n",
        "\n",
        "info = json.loads(hds5210)\n",
        "\n",
        "me = info[\"me\"][\"name\"]\n",
        "my_kids_count = len(info[\"me\"][\"kids\"])\n",
        "kids_list = \", \".join(info[\"me\"][\"kids\"])\n",
        "friend = info[\"friend\"][\"name\"]\n",
        "friends_kid_count = len(info[\"friend\"][\"kids\"])\n",
        "friend_kids = \", \".join(info[\"friend\"][\"kids\"])\n",
        "compare = \"more\" if friends_kid_count > my_kids_count else \"fewer\"\n",
        "\n",
        "print(f\"Hi, my name is {me}. I've got {my_kids_count} kids. Their names are {kids_list}.\")\n",
        "print(f\"My friend, {friend} has {friends_kid_count} kids. That's {compare} than me. Their names are {friend_kids}\")"
      ]
    }
  ],
  "metadata": {
    "kernelspec": {
      "display_name": "Python 3",
      "language": "python",
      "name": "python3"
    },
    "language_info": {
      "codemirror_mode": {
        "name": "ipython",
        "version": 3
      },
      "file_extension": ".py",
      "mimetype": "text/x-python",
      "name": "python",
      "nbconvert_exporter": "python",
      "pygments_lexer": "ipython3",
      "version": "3.9.16"
    },
    "colab": {
      "provenance": [],
      "include_colab_link": true
    }
  },
  "nbformat": 4,
  "nbformat_minor": 0
}