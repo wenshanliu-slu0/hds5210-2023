{
  "cells": [
    {
      "cell_type": "markdown",
      "metadata": {
        "id": "8vykcsstmSjI"
      },
      "source": [
        "# Week 9 Assignment"
      ]
    },
    {
      "cell_type": "markdown",
      "metadata": {
        "id": "_FSdNJNTmSjJ"
      },
      "source": [
        "We had two major areas of discussion this week.  The first was all about how to work with string data - parsing and splitting strings using basic string fuctions as well as more complex string matching using regular expressions.  The second was a basic introduction to Pandas with a few different examples of how to load data into Pandas and then visualize it using graphs (histogram, distribution, scatter, bar, timeseries).\n",
        "\n",
        "Test your knowledge of the content from the lectures through the multiple choice questions below.\n",
        "\n",
        "---\n",
        "---"
      ]
    },
    {
      "cell_type": "markdown",
      "metadata": {
        "id": "3MDVu-bNmSjJ"
      },
      "source": [
        "### 36.1 What is the output of the following code?\n",
        "\n",
        "```python\n",
        "print('hi' * 3)\n",
        "```\n",
        "\n",
        "> A) `hihihi`\n",
        ">\n",
        "> B) `hhhiii`\n",
        ">\n",
        "> C) `hi,hi,hi`\n",
        ">\n",
        "> D) `['hi','hi','hi']`"
      ]
    },
    {
      "cell_type": "code",
      "execution_count": 1,
      "metadata": {
        "id": "n3fkSn61mSjJ"
      },
      "outputs": [],
      "source": [
        "answers = {}\n",
        "answers['36.1'] = \"A\""
      ]
    },
    {
      "cell_type": "markdown",
      "metadata": {
        "id": "4DBYs9xQmSjK"
      },
      "source": [
        "### 36.2 What is the result of the code below?\n",
        "```python\n",
        "age=10\n",
        "print('Teddy just turned ' + age)\n",
        "```\n",
        "\n",
        "> A) `Teddy just turned 10`\n",
        ">\n",
        "> B) `Teddy just turned X`\n",
        ">\n",
        "> C) `Teddy just turned Teedy just turned Teedy just turned Teedy just turned Teedy just turned Teedy just turned Teedy just turned Teedy just turned Teedy just turned Teedy just turned`\n",
        ">\n",
        "> D) An error message"
      ]
    },
    {
      "cell_type": "code",
      "execution_count": 2,
      "metadata": {
        "id": "H1PaRtRrmSjK"
      },
      "outputs": [],
      "source": [
        "answers['36.2'] = \"D\""
      ]
    },
    {
      "cell_type": "markdown",
      "metadata": {
        "id": "NaDA1YaEmSjK"
      },
      "source": [
        "### 36.3 How long is the `parts` list that results from the code below?\n",
        "\n",
        "```python\n",
        "parts = \"Now that I'm a data scientist with 1 year of experience,\n",
        "I will have 3,000 new friends!\".split(\", \")\n",
        "```\n",
        "\n",
        "> A) None.  The code will fail.\n",
        ">\n",
        "> B) 2\n",
        ">\n",
        "> C) 3\n",
        ">\n",
        "> D) 4"
      ]
    },
    {
      "cell_type": "code",
      "execution_count": 3,
      "metadata": {
        "id": "L6f69vkTmSjK"
      },
      "outputs": [],
      "source": [
        "answers['36.3'] = \"B\""
      ]
    },
    {
      "cell_type": "markdown",
      "metadata": {
        "id": "Xd8M_J7fmSjK"
      },
      "source": [
        "### 36.4 How long is the `parts` list that results from the subtly different code below?\n",
        "\n",
        "```python\n",
        "parts = \"Now that I'm a data scientist with 1 year of experience,\n",
        "I will have 3,000 new friends!\".split(\",\")\n",
        "```\n",
        "\n",
        "> A) None.  The code will fail.\n",
        ">\n",
        "> B) 2\n",
        ">\n",
        "> C) 3\n",
        ">\n",
        "> D) 4"
      ]
    },
    {
      "cell_type": "code",
      "execution_count": 4,
      "metadata": {
        "id": "yZPjZ8jFmSjK"
      },
      "outputs": [],
      "source": [
        "answers['36.4'] = \"C\""
      ]
    },
    {
      "cell_type": "markdown",
      "metadata": {
        "id": "Ro7czer5mSjK"
      },
      "source": [
        "### 38.1 How do you access a list of all the column names in a data frame?\n",
        "\n",
        "```python\n",
        "data = read_excel('my_file.xlsx')\n",
        "```\n",
        "\n",
        "> A) `len(data)`\n",
        ">\n",
        "> B) `data.shape[0]`\n",
        ">\n",
        "> C) `data.columns`\n",
        ">\n",
        "> D) `data.names`"
      ]
    },
    {
      "cell_type": "code",
      "execution_count": 5,
      "metadata": {
        "id": "-QHYKtwTmSjK"
      },
      "outputs": [],
      "source": [
        "answers['38.1'] = \"C\""
      ]
    },
    {
      "cell_type": "markdown",
      "metadata": {
        "id": "eGn5H3wZmSjK"
      },
      "source": [
        "### 38.2 Can the following data be converted directly to a dataframe?\n",
        "\n",
        "```python\n",
        "names = [\n",
        "    ['Paul','Boal','E'],\n",
        "    ['Eric','Westhus','D'],\n",
        "    ['Bill','Jones','A']\n",
        "]\n",
        "\n",
        "data = pd.DataFrame(names)\n",
        "```\n",
        "\n",
        "> A) True\n",
        ">\n",
        "> B) False"
      ]
    },
    {
      "cell_type": "code",
      "execution_count": 6,
      "metadata": {
        "id": "xeawNxSbmSjK"
      },
      "outputs": [],
      "source": [
        "answers['38.2'] = \"A\""
      ]
    },
    {
      "cell_type": "markdown",
      "metadata": {
        "id": "YdkbZT5rmSjK"
      },
      "source": [
        "### 38.3 How many rows and columns does the code below produce?\n",
        "```python\n",
        "people = [\n",
        "    { 'first': 'Paul', 'last': 'Boal', 'middle': 'E' },\n",
        "    { 'first': 'Eric', 'last': 'Westhus', 'middle': 'D'},\n",
        "    { 'first': 'Bill', 'last': 'Jones', 'middle': 'A'},\n",
        "    { 'first': 'Walter', 'last': 'Cronkite'},\n",
        "    { 'first': 'Eddie', 'last': 'Murphy'},\n",
        "    { 'first': 'Cher'}\n",
        "]\n",
        "pd.DataFrame(people)\n",
        "```\n",
        "\n",
        "> A) 6 columns, 3 rows\n",
        ">\n",
        "> B) 14 rows, 1 column\n",
        ">\n",
        "> C) 6 rows, 3 columns\n",
        ">\n",
        "> D) Nothing.  It's invalid code."
      ]
    },
    {
      "cell_type": "code",
      "execution_count": 7,
      "metadata": {
        "id": "Kx7oGR3KmSjK"
      },
      "outputs": [],
      "source": [
        "answers['38.3'] = \"C\""
      ]
    },
    {
      "cell_type": "markdown",
      "metadata": {
        "id": "4PcHItGHmSjL"
      },
      "source": [
        "---\n",
        "\n",
        "Checking Your Work\n",
        "---\n",
        "\n",
        "After completing your work above and running each cell, you can check your answers by running the code below.\n",
        "\n",
        "The easiest way to do this is to use the `Kernel` -> `Restart Kernel and Run All Cells` menu option. This option restarts Python and runs every cell from top to bottom until it encounters an exception of some kind.  It will stop after running the cell below and outputing a summary of how many answers you have correct or incorrect.\n"
      ]
    },
    {
      "cell_type": "code",
      "execution_count": 8,
      "metadata": {
        "id": "cQeZM2hjmSjL",
        "outputId": "ab2754a8-9575-4559-b57b-d93069b8716b",
        "colab": {
          "base_uri": "https://localhost:8080/"
        }
      },
      "outputs": [
        {
          "output_type": "stream",
          "name": "stdout",
          "text": [
            "Requirement already satisfied: boto3 in /usr/local/lib/python3.10/dist-packages (1.28.73)\n",
            "Requirement already satisfied: botocore<1.32.0,>=1.31.73 in /usr/local/lib/python3.10/dist-packages (from boto3) (1.31.73)\n",
            "Requirement already satisfied: jmespath<2.0.0,>=0.7.1 in /usr/local/lib/python3.10/dist-packages (from boto3) (1.0.1)\n",
            "Requirement already satisfied: s3transfer<0.8.0,>=0.7.0 in /usr/local/lib/python3.10/dist-packages (from boto3) (0.7.0)\n",
            "Requirement already satisfied: python-dateutil<3.0.0,>=2.1 in /usr/local/lib/python3.10/dist-packages (from botocore<1.32.0,>=1.31.73->boto3) (2.8.2)\n",
            "Requirement already satisfied: urllib3<2.1,>=1.25.4 in /usr/local/lib/python3.10/dist-packages (from botocore<1.32.0,>=1.31.73->boto3) (2.0.7)\n",
            "Requirement already satisfied: six>=1.5 in /usr/local/lib/python3.10/dist-packages (from python-dateutil<3.0.0,>=2.1->botocore<1.32.0,>=1.31.73->boto3) (1.16.0)\n",
            "=============================================\n",
            "== RESULTS for wliu014@slu.edu\n",
            "=============================================\n",
            "   Q#               Yours  Correct?\n",
            " 36.1                   A        OK\n",
            " 36.2                   D        OK\n",
            " 36.3                   B        OK\n",
            " 36.4                   C        OK\n",
            " 38.1                   C        OK\n",
            " 38.2                   A        OK\n",
            " 38.3                   C        OK\n"
          ]
        }
      ],
      "source": [
        "!pip install boto3\n",
        "import httpimport\n",
        "with httpimport.remote_repo('https://gist.githubusercontent.com/paulboal/f14bead2d24fcb9499f4de4607908824/raw/4c3c0e75ea1510bb090bada047372954160e64d4'):\n",
        "    import checker\n",
        "\n",
        "checker.check_hds5210(answers, 'week09')"
      ]
    },
    {
      "cell_type": "markdown",
      "metadata": {
        "id": "F5dv7xSlmSjL"
      },
      "source": [
        "---\n",
        "\n",
        "## Check your work above\n",
        "\n",
        "If you didn't get them all correct, take a few minutes to think through those that aren't correct.\n",
        "\n",
        "\n",
        "## Submitting Your Work\n",
        "\n",
        "In order to submit your work, you'll need to save this notebook file back to GitHub.  To do that in Google Colab:\n",
        "1. File -> Save a Copy in GitHub\n",
        "2. Make sure your HDS5210 repository is selected\n",
        "3. Make sure the file name includes the week number like this: `week02/week02_assignment_1.ipynb`\n",
        "4. Add a commit message that means something\n",
        "\n",
        "**Be sure week names are lowercase and use a two digit week number!!**\n",
        "\n",
        "**Be sure you use the same file name provided by the instructor!!**\n",
        "\n"
      ]
    }
  ],
  "metadata": {
    "kernelspec": {
      "display_name": "Python 3",
      "language": "python",
      "name": "python3"
    },
    "language_info": {
      "codemirror_mode": {
        "name": "ipython",
        "version": 3
      },
      "file_extension": ".py",
      "mimetype": "text/x-python",
      "name": "python",
      "nbconvert_exporter": "python",
      "pygments_lexer": "ipython3",
      "version": "3.6.7"
    },
    "colab": {
      "provenance": []
    }
  },
  "nbformat": 4,
  "nbformat_minor": 0
}