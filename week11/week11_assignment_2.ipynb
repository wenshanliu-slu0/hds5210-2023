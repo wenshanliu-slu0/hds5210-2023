{
  "cells": [
    {
      "cell_type": "markdown",
      "metadata": {
        "id": "view-in-github",
        "colab_type": "text"
      },
      "source": [
        "<a href=\"https://colab.research.google.com/github/wenshanliu-slu0/hds5210-2023/blob/main/week11/week11_assignment_2.ipynb\" target=\"_parent\"><img src=\"https://colab.research.google.com/assets/colab-badge.svg\" alt=\"Open In Colab\"/></a>"
      ]
    },
    {
      "cell_type": "markdown",
      "metadata": {
        "id": "kdlEw__vpUYg"
      },
      "source": [
        "# Week 11 Assignment\n",
        "\n",
        "\n",
        "Please do the programming exercise and verify that your code works using the tests, then think about your final project and fill out the questions in the second part.\n",
        "\n",
        "---\n",
        "---"
      ]
    },
    {
      "cell_type": "markdown",
      "metadata": {
        "id": "8s0qr0obpUYh"
      },
      "source": [
        "### 47.1: Filtering and summarizing data\n",
        "\n",
        "For this work, you'll find a data file in `https://hds5210-data.s3.amazonaws.com/complications_all.csv`.\n",
        "\n",
        "Read in the data file and create a variable called `mo_hospitals` that contains a data frame from the `complications_all.csv` file, filtered down to only contain those hospitals from the state of Missouri (MO).\n",
        "\n",
        "Then aggregate that data by hospital into a variable named `mo_summary`.  There are some key fields that we want to summarize:\n",
        "* We want to know the earliest date that each hospital was participating in any program\n",
        "* We want to know the latest date that each hospital stopped participating in any program\n",
        "* We want to know the total number of patients in the denominators of these programs\n",
        "\n",
        "Some things to note:\n",
        "* You will need to convert the `Start Date` and `End Date` to actual datetime fields\n",
        "* You will need to clean up and convert the `Denominator` field to just be numeric - the rule that you should use it to simply remove any records where the `Denominator` is `'Not Available'`\n",
        "\n",
        "\n",
        "The final result of this step should be a new data frame called `mo_summary` that contains one row for each hospital and contains the min start date, max end date, and total denominator.  Use the names `start_date`, `end_date`, and `number` for those columns in `mo_summary`.\n",
        "\n",
        "\n",
        "You do not need to create your code in the form of a function, just make sure your variable names match what I've described above so the tests work."
      ]
    },
    {
      "cell_type": "code",
      "execution_count": 24,
      "metadata": {
        "id": "mx89ByNWpUYi"
      },
      "outputs": [],
      "source": [
        "import pandas as pd\n",
        "# This is just to show you the name to use for the variable you need to create for this step to pass.\n",
        "all_hospitals = pd.read_csv('https://hds5210-data.s3.amazonaws.com/complications_all.csv')\n"
      ]
    },
    {
      "cell_type": "code",
      "execution_count": 25,
      "metadata": {
        "id": "zbyel9fxpUYi",
        "outputId": "3a6b00ca-2679-44d8-8d40-fce38af98289",
        "colab": {
          "base_uri": "https://localhost:8080/"
        }
      },
      "outputs": [
        {
          "output_type": "stream",
          "name": "stdout",
          "text": [
            "      Facility ID                       Facility Name  \\\n",
            "45534      260001               MERCY HOSPITAL JOPLIN   \n",
            "45535      260001               MERCY HOSPITAL JOPLIN   \n",
            "45536      260001               MERCY HOSPITAL JOPLIN   \n",
            "45537      260001               MERCY HOSPITAL JOPLIN   \n",
            "45538      260001               MERCY HOSPITAL JOPLIN   \n",
            "...           ...                                 ...   \n",
            "47557      261337  MISSOURI BAPTIST SULLIVAN HOSPITAL   \n",
            "47558      261337  MISSOURI BAPTIST SULLIVAN HOSPITAL   \n",
            "47575      261338             MERCY HOSPITAL CARTHAGE   \n",
            "47576      261338             MERCY HOSPITAL CARTHAGE   \n",
            "47577      261338             MERCY HOSPITAL CARTHAGE   \n",
            "\n",
            "                         Address      City State  ZIP Code County Name  \\\n",
            "45534              100 MERCY WAY    JOPLIN    MO     64804      JASPER   \n",
            "45535              100 MERCY WAY    JOPLIN    MO     64804      JASPER   \n",
            "45536              100 MERCY WAY    JOPLIN    MO     64804      JASPER   \n",
            "45537              100 MERCY WAY    JOPLIN    MO     64804      JASPER   \n",
            "45538              100 MERCY WAY    JOPLIN    MO     64804      JASPER   \n",
            "...                          ...       ...   ...       ...         ...   \n",
            "47557   751 SAPPINGTON BRIDGE RD  SULLIVAN    MO     63080    FRANKLIN   \n",
            "47558   751 SAPPINGTON BRIDGE RD  SULLIVAN    MO     63080    FRANKLIN   \n",
            "47575  3125 DR RUSSELL SMITH WAY  CARTHAGE    MO     64836      JASPER   \n",
            "47576  3125 DR RUSSELL SMITH WAY  CARTHAGE    MO     64836      JASPER   \n",
            "47577  3125 DR RUSSELL SMITH WAY  CARTHAGE    MO     64836      JASPER   \n",
            "\n",
            "         Phone Number     Measure ID  \\\n",
            "45534  (417) 781-2727  COMP_HIP_KNEE   \n",
            "45535  (417) 781-2727    MORT_30_AMI   \n",
            "45536  (417) 781-2727   MORT_30_CABG   \n",
            "45537  (417) 781-2727   MORT_30_COPD   \n",
            "45538  (417) 781-2727     MORT_30_HF   \n",
            "...               ...            ...   \n",
            "47557  (573) 468-4186     MORT_30_HF   \n",
            "47558  (573) 468-4186     MORT_30_PN   \n",
            "47575  (417) 358-8121   MORT_30_COPD   \n",
            "47576  (417) 358-8121     MORT_30_HF   \n",
            "47577  (417) 358-8121     MORT_30_PN   \n",
            "\n",
            "                                            Measure Name  \\\n",
            "45534  Rate of complications for hip/knee replacement...   \n",
            "45535               Death rate for heart attack patients   \n",
            "45536               Death rate for CABG surgery patients   \n",
            "45537                       Death rate for COPD patients   \n",
            "45538              Death rate for heart failure patients   \n",
            "...                                                  ...   \n",
            "47557              Death rate for heart failure patients   \n",
            "47558                  Death rate for pneumonia patients   \n",
            "47575                       Death rate for COPD patients   \n",
            "47576              Death rate for heart failure patients   \n",
            "47577                  Death rate for pneumonia patients   \n",
            "\n",
            "                      Compared to National  Denominator Score Lower Estimate  \\\n",
            "45534  No Different Than the National Rate           26   2.5            1.4   \n",
            "45535  No Different Than the National Rate          175  13.9           11.0   \n",
            "45536  No Different Than the National Rate           91   2.5            1.2   \n",
            "45537  No Different Than the National Rate          326   8.5            6.5   \n",
            "45538  No Different Than the National Rate          461  13.1           10.7   \n",
            "...                                    ...          ...   ...            ...   \n",
            "47557  No Different Than the National Rate          114  12.4            9.1   \n",
            "47558  No Different Than the National Rate           77  13.5            9.8   \n",
            "47575  No Different Than the National Rate           58   7.4            4.9   \n",
            "47576  No Different Than the National Rate           27   9.8            6.5   \n",
            "47577  No Different Than the National Rate           68  13.8            9.8   \n",
            "\n",
            "      Higher Estimate  Footnote Start Date   End Date  \n",
            "45534             4.2       NaN 2015-04-01 2018-03-31  \n",
            "45535            16.9       NaN 2015-07-01 2018-06-30  \n",
            "45536             5.1       NaN 2015-07-01 2018-06-30  \n",
            "45537            10.9       NaN 2015-07-01 2018-06-30  \n",
            "45538            15.9       NaN 2015-07-01 2018-06-30  \n",
            "...               ...       ...        ...        ...  \n",
            "47557            16.4       NaN 2015-07-01 2018-06-30  \n",
            "47558            18.0       NaN 2015-07-01 2018-06-30  \n",
            "47575            11.0       NaN 2015-07-01 2018-06-30  \n",
            "47576            14.5       NaN 2015-07-01 2018-06-30  \n",
            "47577            18.5       NaN 2015-07-01 2018-06-30  \n",
            "\n",
            "[1189 rows x 18 columns]\n"
          ]
        },
        {
          "output_type": "stream",
          "name": "stderr",
          "text": [
            "<ipython-input-25-a646065f45d6>:11: SettingWithCopyWarning: \n",
            "A value is trying to be set on a copy of a slice from a DataFrame.\n",
            "Try using .loc[row_indexer,col_indexer] = value instead\n",
            "\n",
            "See the caveats in the documentation: https://pandas.pydata.org/pandas-docs/stable/user_guide/indexing.html#returning-a-view-versus-a-copy\n",
            "  mo_hospitals['Start Date'] = pd.to_datetime(mo_hospitals['Start Date'])\n",
            "<ipython-input-25-a646065f45d6>:12: SettingWithCopyWarning: \n",
            "A value is trying to be set on a copy of a slice from a DataFrame.\n",
            "Try using .loc[row_indexer,col_indexer] = value instead\n",
            "\n",
            "See the caveats in the documentation: https://pandas.pydata.org/pandas-docs/stable/user_guide/indexing.html#returning-a-view-versus-a-copy\n",
            "  mo_hospitals['End Date'] = pd.to_datetime(mo_hospitals['End Date'])\n"
          ]
        }
      ],
      "source": [
        "# Do you work here and in as many cells as you need to create a variable called `mo_summary` that matches the requirements\n",
        "\n",
        "#Q0\n",
        "# Filter data for hospitals in MO\n",
        "mo_hospitals = all_hospitals[all_hospitals['State'] == 'MO']\n",
        "\n",
        "#print(mo_hospitals)\n",
        "\n",
        "#Q1\n",
        "# Convert 'Start Date' and 'End Date' to datetime fields\n",
        "mo_hospitals['Start Date'] = pd.to_datetime(mo_hospitals['Start Date'])\n",
        "mo_hospitals['End Date'] = pd.to_datetime(mo_hospitals['End Date'])\n",
        "\n",
        "#Q2\n",
        "# clean up and convert the Denominator field to just be numeric - the rule that you should use it to simply remove any records where the Denominator is 'Not Available'\n",
        "mo_hospitals = mo_hospitals[mo_hospitals['Denominator'] != 'Not Available']\n",
        "mo_hospitals['Denominator'] = pd.to_numeric(mo_hospitals['Denominator'])\n",
        "\n",
        "print(mo_hospitals)\n"
      ]
    },
    {
      "cell_type": "code",
      "source": [
        "#final step\n",
        "#how to using NameAgg() https://pandas.pydata.org/pandas-docs/dev/reference/api/pandas.NamedAgg.html\n",
        "\n",
        "\n",
        "# Aggregate data\n",
        "mo_summary = mo_hospitals.groupby('Facility Name').agg(\n",
        "    start_date=pd.NamedAgg(column='Start Date', aggfunc='min'),\n",
        "    end_date=pd.NamedAgg(column='End Date', aggfunc='max'),\n",
        "    number=pd.NamedAgg(column='Denominator', aggfunc='sum')\n",
        ").reset_index()\n",
        "\n",
        "\n",
        "mo_summary.set_index('Facility Name', inplace=True)\n",
        "\n",
        "# Display the resulting DataFrame\n",
        "print(mo_summary)\n",
        "\n"
      ],
      "metadata": {
        "colab": {
          "base_uri": "https://localhost:8080/"
        },
        "id": "fpjYYlwbTPcH",
        "outputId": "46774162-5cbd-4e61-cf5b-a62724815987"
      },
      "execution_count": 26,
      "outputs": [
        {
          "output_type": "stream",
          "name": "stdout",
          "text": [
            "                                    start_date   end_date  number\n",
            "Facility Name                                                    \n",
            "BARNES JEWISH HOSPITAL              2015-04-01 2018-06-30  131313\n",
            "BARNES-JEWISH ST PETERS HOSPITAL    2015-04-01 2018-06-30   15668\n",
            "BARNES-JEWISH WEST COUNTY HOSPITAL  2015-04-01 2018-06-30    9622\n",
            "BATES COUNTY MEMORIAL HOSPITAL      2015-07-01 2018-06-30    3117\n",
            "BELTON REGIONAL MEDICAL CENTER      2015-04-01 2018-06-30    9270\n",
            "...                                        ...        ...     ...\n",
            "TRUMAN MEDICAL CENTER LAKEWOOD      2015-04-01 2018-06-30    4297\n",
            "UNIVERSITY OF MISSOURI HEALTH CARE  2015-04-01 2018-06-30   56493\n",
            "WASHINGTON COUNTY MEMORIAL HOSPITAL 2015-07-01 2018-06-30     220\n",
            "WESTERN MISSOURI MEDICAL CENTER     2015-04-01 2018-06-30    7254\n",
            "WRIGHT MEMORIAL HOSPITAL            2015-07-01 2018-06-30     198\n",
            "\n",
            "[108 rows x 3 columns]\n"
          ]
        }
      ]
    },
    {
      "cell_type": "code",
      "execution_count": 27,
      "metadata": {
        "id": "_N6PDpuWpUYi"
      },
      "outputs": [],
      "source": [
        "assert(mo_summary['number'].sum() == 1766908)\n",
        "assert(mo_summary['start_date'].min() == pd.Timestamp(2015,4,1))\n",
        "assert(mo_summary['end_date'].max() == pd.Timestamp(2018,6,30))\n",
        "assert(mo_summary.shape == (108,3))\n",
        "assert(mo_summary.loc['BARNES JEWISH HOSPITAL'].number == 131313)\n",
        "assert(mo_summary.loc['BOONE HOSPITAL CENTER'].number == 63099)"
      ]
    },
    {
      "cell_type": "markdown",
      "metadata": {
        "id": "lv-lAY6JpUYj"
      },
      "source": [
        "---\n",
        "\n",
        "### 47.2 Planning your final project\n",
        "\n",
        "You should be thinking about the things we've been learning and how you can apply them to your final project.  Use the rubric to help guid your thinking and then answer the questions below.  This is meant as a guide to help you think through what you will do."
      ]
    },
    {
      "cell_type": "markdown",
      "metadata": {
        "id": "W_0sm3xLpUYj"
      },
      "source": [
        "#### A) Data Access\n",
        "\n",
        "Your project should include data from at least three distinct types of sources.  For example: AWS S3, Relational Databases, Internet, Web Services, local files.  List what data sources you're planning to use."
      ]
    },
    {
      "cell_type": "markdown",
      "metadata": {
        "id": "nW4PZwndpUYk"
      },
      "source": [
        "**Double-click to enter your answer**\n",
        "\n",
        "- Relational Database\n",
        "- Web Services\n",
        "- local files\n",
        "- Internet\n"
      ]
    },
    {
      "cell_type": "markdown",
      "metadata": {
        "id": "SeLfeVW6pUYk"
      },
      "source": [
        "#### B. Data Formats\n",
        "\n",
        "Your project should include data that comes in different file formats.  For example: HL7, EDI, HTML, CSV, Excel, JSON, XML.  List what data formats you're planning to use."
      ]
    },
    {
      "cell_type": "markdown",
      "metadata": {
        "id": "KhZnW7pEpUYl"
      },
      "source": [
        "**Double-click to enter your answer**\n",
        "\n",
        "- CSV\n",
        "- JSON\n",
        "- Excel\n",
        "- HTML\n"
      ]
    },
    {
      "cell_type": "markdown",
      "metadata": {
        "id": "gVojOtXEpUYl"
      },
      "source": [
        "#### C. Objective\n",
        "\n",
        "What purpose would your project serve in a real work setting?  Take a couple of paragraphs to write down why this is an interesting product."
      ]
    },
    {
      "cell_type": "markdown",
      "metadata": {
        "id": "GqA5O_QvpUYl"
      },
      "source": [
        "**Double-click to enter your answer**\n",
        "\n",
        "Long-term care analysis is critical for a number of reasons, the most important of which are the aging population and the possible financial load associated with longer healthcare demands. Therefore, I want to do a visual analysis of long-term care facilities and nursing homes to gain a comprehensive understanding of the quality of care provided in our society.\n",
        "\n",
        "In this report, Maryland will be used as an example. Firstly, data will be extracted using the Python package from https://www.indexmundi.com/ to obtain elderly population statistics for each county in Maryland. In the second part, data on Assisted Living will be extracted from data.gov using an API-based approach. In the final step of the data set retrieval process, information on Maryland Long Term Care Assisted Living, Acute General, and Special Hospitals will be collected. This data will be imported into a Python data frame using the local files approach, either through CSV or Excel files.\n",
        "\n",
        " Subsequently, these datasets will be joined if in the specific condition, which is the county column. Therefore, the final report would use those data to make a heatmap to show the higher value of the elderly population and a map to show the locations of assisted living places and acute and special hospitals.\n",
        ""
      ]
    },
    {
      "cell_type": "markdown",
      "metadata": {
        "id": "FKXikMYnpUYl"
      },
      "source": [
        "\n",
        "\n",
        "---\n",
        "\n",
        "\n",
        "\n",
        "## Submit your work via GitHub as normal\n"
      ]
    }
  ],
  "metadata": {
    "kernelspec": {
      "display_name": "Python 3",
      "language": "python",
      "name": "python3"
    },
    "language_info": {
      "codemirror_mode": {
        "name": "ipython",
        "version": 3
      },
      "file_extension": ".py",
      "mimetype": "text/x-python",
      "name": "python",
      "nbconvert_exporter": "python",
      "pygments_lexer": "ipython3",
      "version": "3.9.16"
    },
    "colab": {
      "provenance": [],
      "include_colab_link": true
    }
  },
  "nbformat": 4,
  "nbformat_minor": 0
}