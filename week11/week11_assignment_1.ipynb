{
  "cells": [
    {
      "cell_type": "markdown",
      "metadata": {
        "id": "r8o5hSe-7QG7"
      },
      "source": [
        "# Week 10 Assignment"
      ]
    },
    {
      "cell_type": "markdown",
      "metadata": {
        "id": "ctZRP8LS7QG8"
      },
      "source": [
        "This week's content was all about working with Pandas dataframes in a few new ways: managing duplicate rows, filtering, replacing information, creating derived fields, and working with datetime data.\n",
        "\n",
        "Test your knowledge of the content from the lectures through the multiple choice questions below.\n",
        "\n",
        "---\n",
        "---"
      ]
    },
    {
      "cell_type": "markdown",
      "metadata": {
        "id": "2mKjXi9I7QG8"
      },
      "source": [
        "### 42.1 Which of these ways will show you a unique list of values from a column in a dataframe?  \n",
        "\n",
        "Some options might show the unique list and additional information like how many times each appears.  Include those in your answer, too.\n",
        "\n",
        "> A) `df['my field'].unique()`\n",
        ">\n",
        "> B) `df['my field'].value_counts()`\n",
        ">\n",
        "> C) `df['my_field'].keys()`\n",
        ">\n",
        "> D) None of these"
      ]
    },
    {
      "cell_type": "code",
      "execution_count": 51,
      "metadata": {
        "id": "EjlIDRiQ7QG9"
      },
      "outputs": [],
      "source": [
        "answers = {}\n",
        "answers['42.1'] = [\"A\",\"B\",\"C\"]"
      ]
    },
    {
      "cell_type": "markdown",
      "metadata": {
        "id": "l8FUk9rb7QG9"
      },
      "source": [
        "### 42.2 Value Counts of Value Counts?\n",
        "\n",
        "What is the best description for the following line of code do?\n",
        "\n",
        "```python\n",
        "df['my field'].value_counts().value_counts()\n",
        "```\n",
        "\n",
        "> A) This will return a list of all values in **my field** and how many times each value appears in the dataframe\n",
        ">\n",
        "> B) This will return an error\n",
        ">\n",
        "> C) If this list returns one result and it has a `1` in the first position, then we know **my field** is a unique list\n",
        ">\n",
        "> D) This will return a list of all the values in **my field** that appear only once"
      ]
    },
    {
      "cell_type": "code",
      "execution_count": 52,
      "metadata": {
        "id": "HduG_7eM7QG9"
      },
      "outputs": [],
      "source": [
        "answers['42.2'] = \"C\""
      ]
    },
    {
      "cell_type": "markdown",
      "metadata": {
        "id": "yVbOctZi7QG9"
      },
      "source": [
        "### 42.3 The results of a pandas dataframe groupby() can only calculate min, max, and avg\n",
        "\n",
        "> A) True\n",
        ">\n",
        "> B) False\n"
      ]
    },
    {
      "cell_type": "code",
      "execution_count": 53,
      "metadata": {
        "id": "wU0tsvPr7QG9"
      },
      "outputs": [],
      "source": [
        "answers['42.3'] = \"B\""
      ]
    },
    {
      "cell_type": "markdown",
      "metadata": {
        "id": "vpqUS7BS7QG9"
      },
      "source": [
        "### 43.1 Which is the proper way to combine two filters so that the only rows returned are rows where both conditions are true?\n",
        "\n",
        "> A) `(df['diabetes_risk'] > 4) and (df['hf_risk'] > 4)`\n",
        ">\n",
        "> B) `(df['diabetes_risk'] > 4) & (df['hf_risk'] > 4)`\n",
        ">\n",
        "> C) `(df['diabetes_risk'] and df['hf_risk'] > 4)`\n",
        ">\n",
        "> D) `(df['diabetes_risk'] & df['hf_risk']) > 4`"
      ]
    },
    {
      "cell_type": "code",
      "execution_count": 54,
      "metadata": {
        "id": "TE57_rt07QG-"
      },
      "outputs": [],
      "source": [
        "answers['43.1'] = \"B\""
      ]
    },
    {
      "cell_type": "markdown",
      "metadata": {
        "id": "LJByVwVZ7QG-"
      },
      "source": [
        "### 43.2 Pandas can only filter on one column at a time\n",
        "\n",
        "> A) True\n",
        ">\n",
        "> B) False\n"
      ]
    },
    {
      "cell_type": "code",
      "execution_count": 55,
      "metadata": {
        "id": "yX9dcdZ17QG-"
      },
      "outputs": [],
      "source": [
        "answers['43.2'] = \"B\""
      ]
    },
    {
      "cell_type": "markdown",
      "metadata": {
        "id": "I_lKmkpc7QG-"
      },
      "source": [
        "### 44.1 What is the most correct definition of interpolation?\n",
        "\n",
        "> A) Interpolation is a statistical data investigation conducted by Interpol\n",
        ">\n",
        "> B) Interpolation is a series of techniques for filling in missing data in the midst of your data set\n",
        ">\n",
        "> C) Interpolation is the application of statistical methods to predict data beyond the boundaries of your data set\n",
        ">\n",
        "> D) Interpolation is never a good idea"
      ]
    },
    {
      "cell_type": "code",
      "execution_count": 56,
      "metadata": {
        "id": "scrTTB4L7QG-"
      },
      "outputs": [],
      "source": [
        "answers['44.1'] = \"B\""
      ]
    },
    {
      "cell_type": "markdown",
      "metadata": {
        "id": "hAJekp2A7QG-"
      },
      "source": [
        "### 44.2 How are typical string functions (like lower()) applied to a dataframe column?\n",
        "\n",
        "> A) `df['my field'].lower()`\n",
        ">\n",
        "> B) `lower(df['my field')`\n",
        ">\n",
        "> C) `str.lower(df['my field'])`\n",
        ">\n",
        "> D) `df['my field'].str.lower()`"
      ]
    },
    {
      "cell_type": "code",
      "execution_count": 57,
      "metadata": {
        "id": "wnXhoFUM7QG-"
      },
      "outputs": [],
      "source": [
        "answers['44.2'] = \"D\""
      ]
    },
    {
      "cell_type": "markdown",
      "metadata": {
        "id": "p9PXL6J27QG-"
      },
      "source": [
        "### 45.1 Which method is used to apply an arbitrary function to the columns of a dataframe?\n",
        "\n",
        "> A) `df[['col1','col2']].apply(fcn, axis=1)`\n",
        ">\n",
        "> B) `df[['col1','col2']].map(fcn)`\n",
        ">\n",
        "> C) `df.fnc(['col1','col2'])`\n",
        ">\n",
        "> D) This is not possible"
      ]
    },
    {
      "cell_type": "code",
      "execution_count": 58,
      "metadata": {
        "id": "UlYepogn7QG-"
      },
      "outputs": [],
      "source": [
        "answers['45.1'] = \"A\""
      ]
    },
    {
      "cell_type": "markdown",
      "metadata": {
        "id": "WVM6BREm7QG-"
      },
      "source": [
        "### 46.1 If you store date information as a string, what is the best format to use?\n",
        "\n",
        "> A) Apr 2, 2021\n",
        ">\n",
        "> B) 2021-04-02\n",
        ">\n",
        "> C) 4/2/21\n",
        ">\n",
        "> D) 2/4/21"
      ]
    },
    {
      "cell_type": "code",
      "execution_count": 59,
      "metadata": {
        "id": "GVn0sbDs7QG_"
      },
      "outputs": [],
      "source": [
        "answers['46.1'] = \"B\""
      ]
    },
    {
      "cell_type": "code",
      "execution_count": 59,
      "metadata": {
        "id": "Wjxi0aLZ7QG_"
      },
      "outputs": [],
      "source": []
    },
    {
      "cell_type": "markdown",
      "metadata": {
        "id": "SP0kfw8E7QG_"
      },
      "source": [
        "---\n",
        "\n",
        "Checking Your Work\n",
        "---\n",
        "\n",
        "After completing your work above and running each cell, you can check your answers by running the code below.\n",
        "\n",
        "The easiest way to do this is to use the `Kernel` -> `Restart Kernel and Run All Cells` menu option. This option restarts Python and runs every cell from top to bottom until it encounters an exception of some kind.  It will stop after running the cell below and outputing a summary of how many answers you have correct or incorrect.\n"
      ]
    },
    {
      "cell_type": "code",
      "execution_count": 60,
      "metadata": {
        "id": "UkA6rI1t7QG_",
        "outputId": "d6f51d25-290a-48c6-a918-973bb6b4d034",
        "colab": {
          "base_uri": "https://localhost:8080/"
        }
      },
      "outputs": [
        {
          "output_type": "stream",
          "name": "stdout",
          "text": [
            "Requirement already satisfied: boto3 in /usr/local/lib/python3.10/dist-packages (1.28.83)\n",
            "Requirement already satisfied: botocore<1.32.0,>=1.31.83 in /usr/local/lib/python3.10/dist-packages (from boto3) (1.31.83)\n",
            "Requirement already satisfied: jmespath<2.0.0,>=0.7.1 in /usr/local/lib/python3.10/dist-packages (from boto3) (1.0.1)\n",
            "Requirement already satisfied: s3transfer<0.8.0,>=0.7.0 in /usr/local/lib/python3.10/dist-packages (from boto3) (0.7.0)\n",
            "Requirement already satisfied: python-dateutil<3.0.0,>=2.1 in /usr/local/lib/python3.10/dist-packages (from botocore<1.32.0,>=1.31.83->boto3) (2.8.2)\n",
            "Requirement already satisfied: urllib3<2.1,>=1.25.4 in /usr/local/lib/python3.10/dist-packages (from botocore<1.32.0,>=1.31.83->boto3) (2.0.7)\n",
            "Requirement already satisfied: six>=1.5 in /usr/local/lib/python3.10/dist-packages (from python-dateutil<3.0.0,>=2.1->botocore<1.32.0,>=1.31.83->boto3) (1.16.0)\n",
            "=============================================\n",
            "== RESULTS for wliu014@slu.edu\n",
            "=============================================\n",
            "   Q#               Yours  Correct?\n",
            " 42.1     ['A', 'B', 'C']        OK\n",
            " 42.2                   C        OK\n",
            " 42.3                   B        OK\n",
            " 43.1                   B        OK\n",
            " 43.2                   B        OK\n",
            " 44.1                   B        OK\n",
            " 44.2                   D        OK\n",
            " 45.1                   A        OK\n",
            " 46.1                   B        OK\n"
          ]
        }
      ],
      "source": [
        "!pip install boto3\n",
        "import httpimport\n",
        "with httpimport.remote_repo('https://gist.githubusercontent.com/paulboal/f14bead2d24fcb9499f4de4607908824/raw/4c3c0e75ea1510bb090bada047372954160e64d4'):\n",
        "    import checker\n",
        "\n",
        "checker.check_hds5210(answers, 'week11')"
      ]
    },
    {
      "cell_type": "markdown",
      "metadata": {
        "id": "bKXfJJ4q7QG_"
      },
      "source": [
        "---\n",
        "\n",
        "## Check your work above\n",
        "\n",
        "If you didn't get them all correct, take a few minutes to think through those that aren't correct.\n",
        "\n",
        "\n",
        "## Submitting Your Work\n",
        "\n",
        "In order to submit your work, you'll need to save this notebook file back to GitHub.  To do that in Google Colab:\n",
        "1. File -> Save a Copy in GitHub\n",
        "2. Make sure your HDS5210 repository is selected\n",
        "3. Make sure the file name includes the week number like this: `week02/week02_assignment_1.ipynb`\n",
        "4. Add a commit message that means something\n",
        "\n",
        "**Be sure week names are lowercase and use a two digit week number!!**\n",
        "\n",
        "**Be sure you use the same file name provided by the instructor!!**\n",
        "\n"
      ]
    }
  ],
  "metadata": {
    "kernelspec": {
      "display_name": "Python 3",
      "language": "python",
      "name": "python3"
    },
    "language_info": {
      "codemirror_mode": {
        "name": "ipython",
        "version": 3
      },
      "file_extension": ".py",
      "mimetype": "text/x-python",
      "name": "python",
      "nbconvert_exporter": "python",
      "pygments_lexer": "ipython3",
      "version": "3.6.7"
    },
    "colab": {
      "provenance": []
    }
  },
  "nbformat": 4,
  "nbformat_minor": 0
}